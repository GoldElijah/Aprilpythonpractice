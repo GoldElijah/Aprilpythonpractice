{
 "cells": [
  {
   "cell_type": "code",
   "execution_count": 1,
   "metadata": {},
   "outputs": [
    {
     "name": "stdout",
     "output_type": "stream",
     "text": [
      "Gold Omotosho\n"
     ]
    }
   ],
   "source": [
    "phrase = \"Gold Omotosho\"\n",
    "print(phrase)"
   ]
  },
  {
   "cell_type": "code",
   "execution_count": 3,
   "metadata": {},
   "outputs": [
    {
     "name": "stdout",
     "output_type": "stream",
     "text": [
      "<built-in method isupper of str object at 0x0000000005352170>\n"
     ]
    }
   ],
   "source": [
    "phrase = \"Gold Omotosho\"\n",
    "print(phrase.isupper)"
   ]
  },
  {
   "cell_type": "code",
   "execution_count": 5,
   "metadata": {},
   "outputs": [
    {
     "name": "stdout",
     "output_type": "stream",
     "text": [
      " Title Function\n",
      "GOLD OMOTOSHO\n"
     ]
    }
   ],
   "source": [
    "input(\" Title \")\n",
    "phrase = \"Gold Omotosho\"\n",
    "print(phrase.upper())"
   ]
  },
  {
   "cell_type": "code",
   "execution_count": 6,
   "metadata": {},
   "outputs": [
    {
     "name": "stdout",
     "output_type": "stream",
     "text": [
      "False\n"
     ]
    }
   ],
   "source": [
    "phrase = \"Gold Omotosho\"\n",
    "print(phrase.isupper())"
   ]
  },
  {
   "cell_type": "code",
   "execution_count": 7,
   "metadata": {},
   "outputs": [
    {
     "name": "stdout",
     "output_type": "stream",
     "text": [
      "True\n"
     ]
    }
   ],
   "source": [
    "phrase = \"Gold Omotosho\"\n",
    "print(phrase.upper().isupper())"
   ]
  },
  {
   "cell_type": "code",
   "execution_count": 12,
   "metadata": {},
   "outputs": [
    {
     "name": "stdout",
     "output_type": "stream",
     "text": [
      " Title  Concatenation\n",
      "Gold Omotosho is cool\n"
     ]
    }
   ],
   "source": [
    "input (\" Title \")\n",
    "phrase = \"Gold Omotosho\"\n",
    "print(phrase + \" is cool\")"
   ]
  },
  {
   "cell_type": "code",
   "execution_count": 13,
   "metadata": {},
   "outputs": [
    {
     "name": "stdout",
     "output_type": "stream",
     "text": [
      " Title Numbers of character\n",
      "13\n"
     ]
    }
   ],
   "source": [
    "input (\" Title \")\n",
    "phrase = \"Gold Omotosho\"\n",
    "print(len(phrase))"
   ]
  },
  {
   "cell_type": "code",
   "execution_count": 19,
   "metadata": {},
   "outputs": [
    {
     "name": "stdout",
     "output_type": "stream",
     "text": [
      "Title Individual character\n",
      "G\n"
     ]
    }
   ],
   "source": [
    "input (\"Title\")\n",
    "phrase = \"Gold Omotosho\"\n",
    "print(phrase[0])"
   ]
  },
  {
   "cell_type": "code",
   "execution_count": 16,
   "metadata": {},
   "outputs": [
    {
     "name": "stdout",
     "output_type": "stream",
     "text": [
      "The first character start with 0\n"
     ]
    }
   ],
   "source": [
    "print('The first character start with 0')"
   ]
  },
  {
   "cell_type": "code",
   "execution_count": 20,
   "metadata": {},
   "outputs": [
    {
     "name": "stdout",
     "output_type": "stream",
     "text": [
      "Title Index function\n",
      "0\n"
     ]
    }
   ],
   "source": [
    "input ( \"Title\")\n",
    "phrase = \"Gold Omotosho\"\n",
    "print(phrase.index(\"G\"))"
   ]
  },
  {
   "cell_type": "code",
   "execution_count": 21,
   "metadata": {},
   "outputs": [
    {
     "name": "stdout",
     "output_type": "stream",
     "text": [
      "TitleFirst letter in the word\n",
      "5\n"
     ]
    }
   ],
   "source": [
    "input ( \"Title\")\n",
    "phrase = \"Gold Omotosho\"\n",
    "print(phrase.index(\"Omotosho\"))"
   ]
  },
  {
   "cell_type": "code",
   "execution_count": 22,
   "metadata": {},
   "outputs": [
    {
     "name": "stdout",
     "output_type": "stream",
     "text": [
      "TitleReplace Function\n",
      "Gold Elijah\n"
     ]
    }
   ],
   "source": [
    "input ( \"Title\")\n",
    "phrase = \"Gold Omotosho\"\n",
    "print(phrase.replace(\"Omotosho\", \"Elijah\"))"
   ]
  },
  {
   "cell_type": "code",
   "execution_count": 24,
   "metadata": {},
   "outputs": [
    {
     "name": "stdout",
     "output_type": "stream",
     "text": [
      "TOPIC WORKING WITH NUMBER\n"
     ]
    },
    {
     "data": {
      "text/plain": [
       "' WORKING WITH NUMBER'"
      ]
     },
     "execution_count": 24,
     "metadata": {},
     "output_type": "execute_result"
    }
   ],
   "source": [
    "input (\"TOPIC\")"
   ]
  },
  {
   "cell_type": "code",
   "execution_count": 25,
   "metadata": {},
   "outputs": [
    {
     "name": "stdout",
     "output_type": "stream",
     "text": [
      "12.899999999999999\n"
     ]
    }
   ],
   "source": [
    "print (3*4.3)"
   ]
  },
  {
   "cell_type": "code",
   "execution_count": 26,
   "metadata": {},
   "outputs": [
    {
     "name": "stdout",
     "output_type": "stream",
     "text": [
      "15\n"
     ]
    }
   ],
   "source": [
    "print(3*4+3)"
   ]
  },
  {
   "cell_type": "code",
   "execution_count": null,
   "metadata": {},
   "outputs": [],
   "source": [
    "print (\"masculism operation (give the remainder when dividing)\")\n",
    "print(10 % 3)"
   ]
  },
  {
   "cell_type": "code",
   "execution_count": null,
   "metadata": {},
   "outputs": [],
   "source": [
    "print (\"masculism operation (give the remainder when dividing)\")\n",
    "print(10 % 3)"
   ]
  },
  {
   "cell_type": "code",
   "execution_count": null,
   "metadata": {},
   "outputs": [],
   "source": [
    "print(10 % 3)"
   ]
  },
  {
   "cell_type": "code",
   "execution_count": null,
   "metadata": {},
   "outputs": [],
   "source": []
  },
  {
   "cell_type": "code",
   "execution_count": null,
   "metadata": {},
   "outputs": [],
   "source": []
  },
  {
   "cell_type": "code",
   "execution_count": null,
   "metadata": {},
   "outputs": [],
   "source": []
  }
 ],
 "metadata": {
  "kernelspec": {
   "display_name": "Python 3",
   "language": "python",
   "name": "python3"
  },
  "language_info": {
   "codemirror_mode": {
    "name": "ipython",
    "version": 3
   },
   "file_extension": ".py",
   "mimetype": "text/x-python",
   "name": "python",
   "nbconvert_exporter": "python",
   "pygments_lexer": "ipython3",
   "version": "3.6.5"
  }
 },
 "nbformat": 4,
 "nbformat_minor": 2
}
