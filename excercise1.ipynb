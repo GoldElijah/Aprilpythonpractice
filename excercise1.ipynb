{
 "cells": [
  {
   "cell_type": "code",
   "execution_count": null,
   "metadata": {},
   "outputs": [],
   "source": []
  },
  {
   "cell_type": "code",
   "execution_count": 4,
   "metadata": {},
   "outputs": [
    {
     "name": "stdout",
     "output_type": "stream",
     "text": [
      "What is your name: Omotosho\n",
      "What group are you: b\n",
      "what is your group: b\n"
     ]
    }
   ],
   "source": [
    "nameOfStudent = input('What is your name: ')\n",
    "group = str(input(\"What group are you: \"))\n",
    "a = 'monday'\n",
    "b = 'tuesday'\n",
    "c = 'wednesday'\n",
    "i \n",
    "print ('what is your group: ' + str(group))\n"
   ]
  },
  {
   "cell_type": "code",
   "execution_count": null,
   "metadata": {},
   "outputs": [],
   "source": []
  }
 ],
 "metadata": {
  "kernelspec": {
   "display_name": "Python 3",
   "language": "python",
   "name": "python3"
  },
  "language_info": {
   "codemirror_mode": {
    "name": "ipython",
    "version": 3
   },
   "file_extension": ".py",
   "mimetype": "text/x-python",
   "name": "python",
   "nbconvert_exporter": "python",
   "pygments_lexer": "ipython3",
   "version": "3.6.5"
  }
 },
 "nbformat": 4,
 "nbformat_minor": 2
}
