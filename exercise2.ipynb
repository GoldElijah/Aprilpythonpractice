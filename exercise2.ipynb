{
 "cells": [
  {
   "cell_type": "code",
   "execution_count": 4,
   "metadata": {},
   "outputs": [
    {
     "name": "stdout",
     "output_type": "stream",
     "text": [
      "   /|\n",
      "  / |\n",
      " /  |\n",
      "/___|\n"
     ]
    }
   ],
   "source": [
    "print(\"   /|\")\n",
    "print(\"  / |\")\n",
    "print(\" /  |\")\n",
    "print(\"/___|\")"
   ]
  },
  {
   "cell_type": "code",
   "execution_count": 8,
   "metadata": {},
   "outputs": [
    {
     "name": "stdout",
     "output_type": "stream",
     "text": [
      "There is a boy named Francis,\n",
      "He is from Ogoja, cross river state,\n",
      "he has one (1) girlfriend,\n",
      "there are 49 days to his wedding\n"
     ]
    }
   ],
   "source": [
    "print(\"There is a boy named Francis,\")\n",
    "print(\"He is from Ogoja, cross river state,\")\n",
    "print(\"he has one (1) girlfriend,\")\n",
    "print(\"there are 49 days to his wedding.\") "
   ]
  },
  {
   "cell_type": "code",
   "execution_count": 30,
   "metadata": {},
   "outputs": [
    {
     "name": "stdout",
     "output_type": "stream",
     "text": [
      "There is a boy namedFrancis,\n",
      "He is from Ogoja, cross river state,\n",
      "he has one (1) girlfriend,\n",
      "there are 49 days to his wedding.\n"
     ]
    }
   ],
   "source": [
    "Character_Name = \"Francis\"\n",
    "Days_to_wedding = \"49\"\n",
    "print(\"There is a boy named \" + Character_Name + \",\")\n",
    "print(\"He is from Ogoja, cross river state,\")\n",
    "print(\"he has one (1) girlfriend,\")\n",
    "print(\"there are \" + Days_to_wedding + \" days to his wedding.\") "
   ]
  },
  {
   "cell_type": "code",
   "execution_count": 2,
   "metadata": {},
   "outputs": [
    {
     "name": "stdout",
     "output_type": "stream",
     "text": [
      " Data_Type_A  \n",
      "Data_Type_B \n",
      "Data_Type_C \n"
     ]
    }
   ],
   "source": [
    "data_Type_A = \"string\"\n",
    "data_Type_B = \"Number\"\n",
    "data_Type_C = \"Boolean\"\n",
    "print(' Data_Type_A  ')\n",
    "print('Data_Type_B ')\n",
    "print('Data_Type_C ')\n"
   ]
  },
  {
   "cell_type": "code",
   "execution_count": 27,
   "metadata": {},
   "outputs": [
    {
     "ename": "NameError",
     "evalue": "name 'Print' is not defined",
     "output_type": "error",
     "traceback": [
      "\u001b[1;31m---------------------------------------------------------------------------\u001b[0m",
      "\u001b[1;31mNameError\u001b[0m                                 Traceback (most recent call last)",
      "\u001b[1;32m<ipython-input-27-7805b73af774>\u001b[0m in \u001b[0;36m<module>\u001b[1;34m()\u001b[0m\n\u001b[0;32m      2\u001b[0m \u001b[0mData_Type_B\u001b[0m \u001b[1;33m=\u001b[0m \u001b[1;34m\"Number\"\u001b[0m\u001b[1;33m\u001b[0m\u001b[0m\n\u001b[0;32m      3\u001b[0m \u001b[0mData_Type_C\u001b[0m \u001b[1;33m=\u001b[0m \u001b[1;34m\"Bullen\"\u001b[0m\u001b[1;33m\u001b[0m\u001b[0m\n\u001b[1;32m----> 4\u001b[1;33m \u001b[0mPrint\u001b[0m\u001b[1;33m(\u001b[0m \u001b[0mData_Type_A\u001b[0m\u001b[1;33m)\u001b[0m\u001b[1;33m\u001b[0m\u001b[0m\n\u001b[0m\u001b[0;32m      5\u001b[0m \u001b[0mPrint\u001b[0m\u001b[1;33m(\u001b[0m\u001b[0mData_Type_B\u001b[0m\u001b[1;33m)\u001b[0m\u001b[1;33m\u001b[0m\u001b[0m\n\u001b[0;32m      6\u001b[0m \u001b[0mPrint\u001b[0m\u001b[1;33m(\u001b[0m\u001b[0mData_Type_C\u001b[0m\u001b[1;33m)\u001b[0m\u001b[1;33m\u001b[0m\u001b[0m\n",
      "\u001b[1;31mNameError\u001b[0m: name 'Print' is not defined"
     ]
    }
   ],
   "source": [
    "Data_Type_A = \"string\"\n",
    "Data_Type_B = \"Number\"\n",
    "Data_Type_C = \"Bullen\"\n",
    "Print( Data_Type_A)\n",
    "Print(Data_Type_B)\n",
    "Print(Data_Type_C)"
   ]
  },
  {
   "cell_type": "code",
   "execution_count": null,
   "metadata": {},
   "outputs": [],
   "source": []
  },
  {
   "cell_type": "code",
   "execution_count": null,
   "metadata": {},
   "outputs": [],
   "source": []
  }
 ],
 "metadata": {
  "kernelspec": {
   "display_name": "Python 3",
   "language": "python",
   "name": "python3"
  },
  "language_info": {
   "codemirror_mode": {
    "name": "ipython",
    "version": 3
   },
   "file_extension": ".py",
   "mimetype": "text/x-python",
   "name": "python",
   "nbconvert_exporter": "python",
   "pygments_lexer": "ipython3",
   "version": "3.6.5"
  }
 },
 "nbformat": 4,
 "nbformat_minor": 2
}
